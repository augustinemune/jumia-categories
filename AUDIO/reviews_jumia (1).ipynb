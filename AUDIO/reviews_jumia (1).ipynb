{
  "nbformat": 4,
  "nbformat_minor": 0,
  "metadata": {
    "colab": {
      "name": "reviews jumia.ipynb",
      "provenance": [],
      "collapsed_sections": []
    },
    "kernelspec": {
      "name": "python3",
      "display_name": "Python 3"
    },
    "accelerator": "GPU"
  },
  "cells": [
    {
      "cell_type": "code",
      "metadata": {
        "id": "ltaSzmZ7X1_q",
        "colab_type": "code",
        "colab": {
          "base_uri": "https://localhost:8080/",
          "height": 975
        },
        "outputId": "1ce8dcb5-f1bb-4bf9-e2fe-432ec56c55bf"
      },
      "source": [
        "!pip install requests requests_html bs4\n",
        "!pip install beautifulsoup4"
      ],
      "execution_count": null,
      "outputs": [
        {
          "output_type": "stream",
          "text": [
            "Requirement already satisfied: requests in /usr/local/lib/python3.6/dist-packages (2.23.0)\n",
            "Collecting requests_html\n",
            "  Downloading https://files.pythonhosted.org/packages/24/bc/a4380f09bab3a776182578ce6b2771e57259d0d4dbce178205779abdc347/requests_html-0.10.0-py3-none-any.whl\n",
            "Requirement already satisfied: bs4 in /usr/local/lib/python3.6/dist-packages (0.0.1)\n",
            "Requirement already satisfied: idna<3,>=2.5 in /usr/local/lib/python3.6/dist-packages (from requests) (2.10)\n",
            "Requirement already satisfied: urllib3!=1.25.0,!=1.25.1,<1.26,>=1.21.1 in /usr/local/lib/python3.6/dist-packages (from requests) (1.24.3)\n",
            "Requirement already satisfied: certifi>=2017.4.17 in /usr/local/lib/python3.6/dist-packages (from requests) (2020.6.20)\n",
            "Requirement already satisfied: chardet<4,>=3.0.2 in /usr/local/lib/python3.6/dist-packages (from requests) (3.0.4)\n",
            "Collecting pyppeteer>=0.0.14\n",
            "\u001b[?25l  Downloading https://files.pythonhosted.org/packages/5d/4b/3c2aabdd1b91fa52aa9de6cde33b488b0592b4d48efb0ad9efbf71c49f5b/pyppeteer-0.2.2-py3-none-any.whl (145kB)\n",
            "\u001b[K     |████████████████████████████████| 153kB 5.0MB/s \n",
            "\u001b[?25hCollecting parse\n",
            "  Downloading https://files.pythonhosted.org/packages/22/35/930b6d670cac8ead61dfc05f0e62994ab0697573de17a3231d65631f16d5/parse-1.16.0.tar.gz\n",
            "Collecting fake-useragent\n",
            "  Downloading https://files.pythonhosted.org/packages/d1/79/af647635d6968e2deb57a208d309f6069d31cb138066d7e821e575112a80/fake-useragent-0.1.11.tar.gz\n",
            "Collecting pyquery\n",
            "  Downloading https://files.pythonhosted.org/packages/78/43/95d42e386c61cb639d1a0b94f0c0b9f0b7d6b981ad3c043a836c8b5bc68b/pyquery-1.4.1-py2.py3-none-any.whl\n",
            "Collecting w3lib\n",
            "  Downloading https://files.pythonhosted.org/packages/a3/59/b6b14521090e7f42669cafdb84b0ab89301a42f1f1a82fcf5856661ea3a7/w3lib-1.22.0-py2.py3-none-any.whl\n",
            "Requirement already satisfied: beautifulsoup4 in /usr/local/lib/python3.6/dist-packages (from bs4) (4.6.3)\n",
            "Collecting websockets<9.0,>=8.1\n",
            "\u001b[?25l  Downloading https://files.pythonhosted.org/packages/bb/d9/856af84843912e2853b1b6e898ac8b802989fcf9ecf8e8445a1da263bf3b/websockets-8.1-cp36-cp36m-manylinux2010_x86_64.whl (78kB)\n",
            "\u001b[K     |████████████████████████████████| 81kB 5.2MB/s \n",
            "\u001b[?25hCollecting tqdm<5.0.0,>=4.42.1\n",
            "\u001b[?25l  Downloading https://files.pythonhosted.org/packages/28/7e/281edb5bc3274dfb894d90f4dbacfceaca381c2435ec6187a2c6f329aed7/tqdm-4.48.2-py2.py3-none-any.whl (68kB)\n",
            "\u001b[K     |████████████████████████████████| 71kB 5.3MB/s \n",
            "\u001b[?25hCollecting appdirs<2.0.0,>=1.4.3\n",
            "  Downloading https://files.pythonhosted.org/packages/3b/00/2344469e2084fb287c2e0b57b72910309874c3245463acd6cf5e3db69324/appdirs-1.4.4-py2.py3-none-any.whl\n",
            "Collecting pyee<8.0.0,>=7.0.1\n",
            "  Downloading https://files.pythonhosted.org/packages/f6/28/1cedd44c27907f1507a28ff2d36fc6cdb981c9deff2fa288bc48a700c7c9/pyee-7.0.2-py2.py3-none-any.whl\n",
            "Requirement already satisfied: lxml>=2.1 in /usr/local/lib/python3.6/dist-packages (from pyquery->requests_html) (4.2.6)\n",
            "Collecting cssselect>0.7.9\n",
            "  Downloading https://files.pythonhosted.org/packages/3b/d4/3b5c17f00cce85b9a1e6f91096e1cc8e8ede2e1be8e96b87ce1ed09e92c5/cssselect-1.1.0-py2.py3-none-any.whl\n",
            "Requirement already satisfied: six>=1.4.1 in /usr/local/lib/python3.6/dist-packages (from w3lib->requests_html) (1.15.0)\n",
            "Building wheels for collected packages: parse, fake-useragent\n",
            "  Building wheel for parse (setup.py) ... \u001b[?25l\u001b[?25hdone\n",
            "  Created wheel for parse: filename=parse-1.16.0-cp36-none-any.whl size=23996 sha256=2dd98371030c984fd4e5f3071dc5854952942fb7ef17a2278a753beb6bc3f49a\n",
            "  Stored in directory: /root/.cache/pip/wheels/46/ca/7d/4e6d687c81f1110b47140845d6dce4e6d7cdae0996caeca560\n",
            "  Building wheel for fake-useragent (setup.py) ... \u001b[?25l\u001b[?25hdone\n",
            "  Created wheel for fake-useragent: filename=fake_useragent-0.1.11-cp36-none-any.whl size=13484 sha256=8a12c070af38ae84d8a1ba107fb67b6e3d800728af918eee5ca82a5bc384700e\n",
            "  Stored in directory: /root/.cache/pip/wheels/5e/63/09/d1dc15179f175357d3f5c00cbffbac37f9e8690d80545143ff\n",
            "Successfully built parse fake-useragent\n",
            "\u001b[31mERROR: pyppeteer 0.2.2 has requirement urllib3<2.0.0,>=1.25.8, but you'll have urllib3 1.24.3 which is incompatible.\u001b[0m\n",
            "Installing collected packages: websockets, tqdm, appdirs, pyee, pyppeteer, parse, fake-useragent, cssselect, pyquery, w3lib, requests-html\n",
            "  Found existing installation: tqdm 4.41.1\n",
            "    Uninstalling tqdm-4.41.1:\n",
            "      Successfully uninstalled tqdm-4.41.1\n",
            "Successfully installed appdirs-1.4.4 cssselect-1.1.0 fake-useragent-0.1.11 parse-1.16.0 pyee-7.0.2 pyppeteer-0.2.2 pyquery-1.4.1 requests-html-0.10.0 tqdm-4.48.2 w3lib-1.22.0 websockets-8.1\n"
          ],
          "name": "stdout"
        },
        {
          "output_type": "display_data",
          "data": {
            "application/vnd.colab-display-data+json": {
              "pip_warning": {
                "packages": [
                  "tqdm"
                ]
              }
            }
          },
          "metadata": {
            "tags": []
          }
        },
        {
          "output_type": "stream",
          "text": [
            "Requirement already satisfied: beautifulsoup4 in /usr/local/lib/python3.6/dist-packages (4.6.3)\n"
          ],
          "name": "stdout"
        }
      ]
    },
    {
      "cell_type": "code",
      "metadata": {
        "id": "HGnNEHtcX3So",
        "colab_type": "code",
        "colab": {}
      },
      "source": [
        "import requests\n",
        "import requests_html\n",
        "from requests_html import HTML"
      ],
      "execution_count": null,
      "outputs": []
    },
    {
      "cell_type": "code",
      "metadata": {
        "id": "WlGDFoxIX4g5",
        "colab_type": "code",
        "colab": {}
      },
      "source": [
        "url = \"https://www.jumia.co.ke/home-audio-speakers/\""
      ],
      "execution_count": null,
      "outputs": []
    },
    {
      "cell_type": "code",
      "metadata": {
        "id": "bxfuDx_DX7jL",
        "colab_type": "code",
        "colab": {
          "base_uri": "https://localhost:8080/",
          "height": 34
        },
        "outputId": "6bbee33d-43b1-4d6e-9489-8077186d39dd"
      },
      "source": [
        "r = requests.get(url)\n",
        "r.status_code"
      ],
      "execution_count": null,
      "outputs": [
        {
          "output_type": "execute_result",
          "data": {
            "text/plain": [
              "200"
            ]
          },
          "metadata": {
            "tags": []
          },
          "execution_count": 3
        }
      ]
    },
    {
      "cell_type": "code",
      "metadata": {
        "id": "6c4iw2buYU2b",
        "colab_type": "code",
        "colab": {}
      },
      "source": [
        "html_strg = r.text\n",
        "html = HTML(html=html_strg)"
      ],
      "execution_count": null,
      "outputs": []
    },
    {
      "cell_type": "code",
      "metadata": {
        "id": "wjJWy4dsYa8J",
        "colab_type": "code",
        "colab": {}
      },
      "source": [
        "from bs4 import BeautifulSoup\n",
        "#from csv import writer"
      ],
      "execution_count": null,
      "outputs": []
    },
    {
      "cell_type": "code",
      "metadata": {
        "id": "yGndk0UCYdGI",
        "colab_type": "code",
        "colab": {}
      },
      "source": [
        "soup = BeautifulSoup(html_strg, 'html.parser')"
      ],
      "execution_count": null,
      "outputs": []
    },
    {
      "cell_type": "code",
      "metadata": {
        "id": "8F0S8y6DYglZ",
        "colab_type": "code",
        "colab": {
          "base_uri": "https://localhost:8080/",
          "height": 34
        },
        "outputId": "3dd3cfaf-0fce-44dc-e987-4efc61d21017"
      },
      "source": [
        "all = soup.find_all(class_='_fb')\n",
        "print(len(all))"
      ],
      "execution_count": null,
      "outputs": [
        {
          "output_type": "stream",
          "text": [
            "48\n"
          ],
          "name": "stdout"
        }
      ]
    },
    {
      "cell_type": "code",
      "metadata": {
        "id": "jRV-2algYi8o",
        "colab_type": "code",
        "colab": {
          "base_uri": "https://localhost:8080/",
          "height": 363
        },
        "outputId": "821f6867-2dac-4f89-aedf-9d2a10e02b7c"
      },
      "source": [
        "ff = soup.find_all(class_='_fb')\n",
        "links = []\n",
        "for article in ff:\n",
        "    link = article.find(class_='core')['href']\n",
        "\n",
        "    strf = f\"https://www.jumia.co.ke{link}\"\n",
        "    links.append(strf)"
      ],
      "execution_count": null,
      "outputs": [
        {
          "output_type": "error",
          "ename": "KeyError",
          "evalue": "ignored",
          "traceback": [
            "\u001b[0;31m---------------------------------------------------------------------------\u001b[0m",
            "\u001b[0;31mKeyError\u001b[0m                                  Traceback (most recent call last)",
            "\u001b[0;32m<ipython-input-8-3dcdef2e763d>\u001b[0m in \u001b[0;36m<module>\u001b[0;34m()\u001b[0m\n\u001b[1;32m      2\u001b[0m \u001b[0mlinks\u001b[0m \u001b[0;34m=\u001b[0m \u001b[0;34m[\u001b[0m\u001b[0;34m]\u001b[0m\u001b[0;34m\u001b[0m\u001b[0;34m\u001b[0m\u001b[0m\n\u001b[1;32m      3\u001b[0m \u001b[0;32mfor\u001b[0m \u001b[0marticle\u001b[0m \u001b[0;32min\u001b[0m \u001b[0mff\u001b[0m\u001b[0;34m:\u001b[0m\u001b[0;34m\u001b[0m\u001b[0;34m\u001b[0m\u001b[0m\n\u001b[0;32m----> 4\u001b[0;31m     \u001b[0mlink\u001b[0m \u001b[0;34m=\u001b[0m \u001b[0marticle\u001b[0m\u001b[0;34m.\u001b[0m\u001b[0mfind\u001b[0m\u001b[0;34m(\u001b[0m\u001b[0mclass_\u001b[0m\u001b[0;34m=\u001b[0m\u001b[0;34m'core'\u001b[0m\u001b[0;34m)\u001b[0m\u001b[0;34m[\u001b[0m\u001b[0;34m'href'\u001b[0m\u001b[0;34m]\u001b[0m\u001b[0;34m\u001b[0m\u001b[0;34m\u001b[0m\u001b[0m\n\u001b[0m\u001b[1;32m      5\u001b[0m \u001b[0;34m\u001b[0m\u001b[0m\n\u001b[1;32m      6\u001b[0m     \u001b[0mstrf\u001b[0m \u001b[0;34m=\u001b[0m \u001b[0;34mf\"https://www.jumia.co.ke{link}\"\u001b[0m\u001b[0;34m\u001b[0m\u001b[0;34m\u001b[0m\u001b[0m\n",
            "\u001b[0;32m/usr/local/lib/python3.6/dist-packages/bs4/element.py\u001b[0m in \u001b[0;36m__getitem__\u001b[0;34m(self, key)\u001b[0m\n\u001b[1;32m   1069\u001b[0m         \"\"\"tag[key] returns the value of the 'key' attribute for the tag,\n\u001b[1;32m   1070\u001b[0m         and throws an exception if it's not there.\"\"\"\n\u001b[0;32m-> 1071\u001b[0;31m         \u001b[0;32mreturn\u001b[0m \u001b[0mself\u001b[0m\u001b[0;34m.\u001b[0m\u001b[0mattrs\u001b[0m\u001b[0;34m[\u001b[0m\u001b[0mkey\u001b[0m\u001b[0;34m]\u001b[0m\u001b[0;34m\u001b[0m\u001b[0;34m\u001b[0m\u001b[0m\n\u001b[0m\u001b[1;32m   1072\u001b[0m \u001b[0;34m\u001b[0m\u001b[0m\n\u001b[1;32m   1073\u001b[0m     \u001b[0;32mdef\u001b[0m \u001b[0m__iter__\u001b[0m\u001b[0;34m(\u001b[0m\u001b[0mself\u001b[0m\u001b[0;34m)\u001b[0m\u001b[0;34m:\u001b[0m\u001b[0;34m\u001b[0m\u001b[0;34m\u001b[0m\u001b[0m\n",
            "\u001b[0;31mKeyError\u001b[0m: 'href'"
          ]
        }
      ]
    },
    {
      "cell_type": "code",
      "metadata": {
        "id": "8Lk-5Q4rYn9H",
        "colab_type": "code",
        "colab": {
          "base_uri": "https://localhost:8080/",
          "height": 727
        },
        "outputId": "228513bb-ab65-42de-9ca7-d8df0314aca8"
      },
      "source": [
        "for i in links:\n",
        "    print(i)"
      ],
      "execution_count": null,
      "outputs": [
        {
          "output_type": "stream",
          "text": [
            "https://www.jumia.co.ke/43ln4100s-43-smart-android-digital-led-tv-black.-eefa-mpg208324.html\n",
            "https://www.jumia.co.ke/uka-55-uhd-smart-led-tv-black-10795481.html\n",
            "https://www.jumia.co.ke/uka-32-hd-smart-led-tv-black-10805077.html\n",
            "https://www.jumia.co.ke/vision-plus-vp8843c-43-fhd-android-tv-black-free-wall-mount-10565245.html\n",
            "https://www.jumia.co.ke/hisense-32-32b5200-digital-hd-led-tv-black-30832350.html\n",
            "https://www.jumia.co.ke/43tb7000-43-frameless-smart-android-led-tv-black-skyworth-mpg227121.html\n",
            "https://www.jumia.co.ke/samsung-32-32n5300-smart-full-hd-tv-series-5-black-30537788.html\n",
            "https://www.jumia.co.ke/haier-43-le43k6600ua-fhd-frameless-ultra-slim-smart-tv-black-30069196.html\n",
            "https://www.jumia.co.ke/uka-50-uhd-smart-led-tv-black-10795464.html\n",
            "https://www.jumia.co.ke/samsung-49-49ru7300-smart-curved-ultra-hd-4k-tv-series-7-black-30371399.html\n",
            "https://www.jumia.co.ke/haier-le43k6500a-43-full-hd-led-ultra-slim-smart-tv-black-29882219.html\n",
            "https://www.jumia.co.ke/lg-65-65um7450-smart-ultra-hd-4k-led-tv-black-30484520.html\n",
            "https://www.jumia.co.ke/haier-le50k6500au-50-ultra-hd-4k-led-ultra-slim-smart-tv-black-29882439.html\n",
            "https://www.jumia.co.ke/haier-55-le55k6500au-ultra-hd-4k-led-ultra-slim-smart-tv-black-29882336.html\n",
            "https://www.jumia.co.ke/sony-32-32w600d-smart-led-hd-tv-black-30256382.html\n",
            "https://www.jumia.co.ke/haier-50-le50k6600ua-ultra-hd-4k-frameless-slim-smart-tv-black-30400496.html\n",
            "https://www.jumia.co.ke/vision-plus-vision-plus-65-4k-frameless-android-tv-free-wall-mount-30243301.html\n",
            "https://www.jumia.co.ke/50b7100uw-50-uhd-4k-led-smart-tv-series-7-2020-hisense-mpg221085.html\n",
            "https://www.jumia.co.ke/haier-55-le55k6600ua-ultra-hd-4k-frameless-slim-smart-tv-black-30400498.html\n",
            "https://www.jumia.co.ke/tornado-50es9500e-50-smart-led-tv-black-27667010.html\n",
            "https://www.jumia.co.ke/49b6000pw-49-smart-digital-full-hd-digital-led-tv-black-2019-model-hisense-mpg212487.html\n",
            "https://www.jumia.co.ke/haier-65-le65k6600ua-ultra-hd-4k-frameless-slim-smart-tv-black-30400500.html\n",
            "https://www.jumia.co.ke/ju55ds180s-d18-series-55-inch-4k-uhd-led-smart-android-tv-aiwa-mpg227847.html\n",
            "https://www.jumia.co.ke/mctv-4310-43-hd-led-smart-tv-black.-28222909.html\n",
            "https://www.jumia.co.ke/32s6800-smart-android-digital-led-roku-tv-black-tcl-mpg173682.html\n",
            "https://www.jumia.co.ke/ju50ds180s-d18-series-50-inch-4k-uhd-led-smart-android-tv-aiwa-mpg227845.html\n",
            "https://www.jumia.co.ke/samsung-43t5300-43-smart-led-full-hd-tv-black-29910388.html\n",
            "https://www.jumia.co.ke/lg-49-smart-full-hd-led-tv-black-28592381.html\n",
            "https://www.jumia.co.ke/ju65ds180s-d18-series-65-inch-4k-uhd-led-smart-led-tv-aiwa-mpg227848.html\n",
            "https://www.jumia.co.ke/haier-le32ka6500a-32-full-hd-led-ultra-slim-smart-tv-black-29882441.html\n",
            "https://www.jumia.co.ke/smart-android-tv-netflix-you-tube-tv-43-syinix-mpg248275.html\n",
            "https://www.jumia.co.ke/43-smart-uhd-4k-led-tv-hdr-black-lg-mpg120645.html\n",
            "https://www.jumia.co.ke/lg-65c9pva-65-oled-4k-tv-smart-2019-black-27933447.html\n",
            "https://www.jumia.co.ke/85x8500g-85-4k-hdr-android-smart-led-tv-black-sony-mpg214092.html\n",
            "https://www.jumia.co.ke/bruhm-btf-32hdtsp-32-led-smart-digital-tv-black-18193693.html\n",
            "https://www.jumia.co.ke/43-smart-android-tv-netflix-youtubehdmiusb-synix-mpg250825.html\n",
            "https://www.jumia.co.ke/syinix-43a1s-43full-hdgooglechromecast-android-smart-digital-tv-30138212.html?seller_product=1\n",
            "https://www.jumia.co.ke/lg-65c9pva-65-oled-4k-tv-smart-black-27036950.html\n",
            "https://www.jumia.co.ke/32-smart-android-tv-netflix-youtubehdmiusb-synix-mpg248276.html\n",
            "https://www.jumia.co.ke/32w600d-32-smart-tv-black-sony-mpg219218.html\n"
          ],
          "name": "stdout"
        }
      ]
    },
    {
      "cell_type": "code",
      "metadata": {
        "id": "gzIdVshw7z71",
        "colab_type": "code",
        "colab": {}
      },
      "source": [
        "import pandas as pd\n"
      ],
      "execution_count": null,
      "outputs": []
    },
    {
      "cell_type": "code",
      "metadata": {
        "id": "oa6wwuANYq4Y",
        "colab_type": "code",
        "colab": {
          "base_uri": "https://localhost:8080/",
          "height": 747
        },
        "outputId": "7a940094-b7d8-48f2-c42b-e178cbff6ce7"
      },
      "source": [
        "import pickle\n",
        "datas = []\n",
        "for item in links:\n",
        "    individual = requests.get(item)\n",
        "    html_sg = individual.text\n",
        "    html = HTML(html=html_sg)\n",
        "\n",
        "    soupp = BeautifulSoup(html_sg, 'html.parser')\n",
        "    #print(soupp.prettify())\n",
        "    ffreview = soupp.find_all(class_='cola')\n",
        "    #print(len(ffreview))\n",
        "    for tt in ffreview:\n",
        "      no_reviews = tt.find(class_=\"-ptm\")\n",
        "      if no_reviews is not None:\n",
        "        #print(no_reviews)\n",
        "        rreview = no_reviews.string.replace('Product Reviews','')\n",
        "        #print(rreview)\n",
        "    for tt in ffreview:\n",
        "      #author = tt.find(class_=\"-d-co\")\n",
        "      author = tt.find(\"p\")\n",
        "      if author != None:\n",
        "        act = author.string\n",
        "    print(rreview, act)\n",
        "    data = {\n",
        "        \"Rating\": rreview,\n",
        "        \"Review\": act,\n",
        "    }\n",
        "    datas.append(data)"
      ],
      "execution_count": null,
      "outputs": [
        {
          "output_type": "stream",
          "text": [
            " (5) It works perfectly!\n",
            " (35) It's just like a cinema. Perfect in all the ways possible.\n",
            " (334) It's better a call than a message\n",
            " (173) The product is good, except the remote is not fit for purpose especially when dealing with apps like netflix\n",
            " (173) This product has no ratings yet.\n",
            " (16) delivered just as ordered\n",
            " (16) This product has no ratings yet.\n",
            " (0) This product has no reviews yet.\n",
            " (137) The tv has developed a problem barely a week after purvhasing it\n",
            " (0) This product has no reviews yet.\n",
            " (0) This product has no reviews yet.\n",
            " (0) This product has no ratings yet.\n",
            " (0) This product has no reviews yet.\n",
            " (0) This product has no ratings yet.\n",
            " (1) Quite slim n works just fine\n",
            " (0) This product has no reviews yet.\n",
            " (0) This product has no ratings yet.\n",
            " (3) Value for money..love it\n",
            " (3) This product has no ratings yet.\n",
            " (3) This product has no ratings yet.\n",
            " (3) Good picture quality\n",
            " (3) This product has no ratings yet.\n",
            " (3) This product has no ratings yet.\n",
            " (3) This product has no ratings yet.\n",
            " (50) Good value for money. Everything works as expected.\n",
            " (1) Great quality sound and picture experience\n",
            " (1) This product has no ratings yet.\n",
            " (1) Wow am in love with this TV...for help placing this order reach agent on 0713212551\n",
            " (1) This product has no ratings yet.\n",
            " (8) Want a change\n",
            " (4) the product is very nice and it is the fast time to use this app but I love it\n",
            " (4) I love the tv, especially the magic remote, it simplifies life\n",
            " (4) This product has no ratings yet.\n",
            " (4) This product has no ratings yet.\n",
            " (39) This is just a concern the user manual is not enough to guide first time users,like operating the smart tv some of the features like connecting to you tube screen mirroring we need helpline or agents to assist us?That is during installation of this product.\n",
            " (0) This product has no reviews yet.\n",
            " (0) This product has no reviews yet.\n",
            " (0) This product has no ratings yet.\n",
            " (0) This product has no ratings yet.\n",
            " (12) Love it\n"
          ],
          "name": "stdout"
        }
      ]
    },
    {
      "cell_type": "code",
      "metadata": {
        "id": "fMCR3vDz8ggC",
        "colab_type": "code",
        "colab": {
          "base_uri": "https://localhost:8080/",
          "height": 197
        },
        "outputId": "ffa72123-0780-4a79-a183-0a0d675dddff"
      },
      "source": [
        "\n",
        "df = pd.DataFrame(datas)\n",
        "df.head()"
      ],
      "execution_count": null,
      "outputs": [
        {
          "output_type": "execute_result",
          "data": {
            "text/html": [
              "<div>\n",
              "<style scoped>\n",
              "    .dataframe tbody tr th:only-of-type {\n",
              "        vertical-align: middle;\n",
              "    }\n",
              "\n",
              "    .dataframe tbody tr th {\n",
              "        vertical-align: top;\n",
              "    }\n",
              "\n",
              "    .dataframe thead th {\n",
              "        text-align: right;\n",
              "    }\n",
              "</style>\n",
              "<table border=\"1\" class=\"dataframe\">\n",
              "  <thead>\n",
              "    <tr style=\"text-align: right;\">\n",
              "      <th></th>\n",
              "      <th>Rating</th>\n",
              "      <th>Review</th>\n",
              "    </tr>\n",
              "  </thead>\n",
              "  <tbody>\n",
              "    <tr>\n",
              "      <th>0</th>\n",
              "      <td>(5)</td>\n",
              "      <td>It works perfectly!</td>\n",
              "    </tr>\n",
              "    <tr>\n",
              "      <th>1</th>\n",
              "      <td>(35)</td>\n",
              "      <td>It's just like a cinema. Perfect in all the wa...</td>\n",
              "    </tr>\n",
              "    <tr>\n",
              "      <th>2</th>\n",
              "      <td>(334)</td>\n",
              "      <td>It's better a call than a message</td>\n",
              "    </tr>\n",
              "    <tr>\n",
              "      <th>3</th>\n",
              "      <td>(173)</td>\n",
              "      <td>The product is good, except the remote is not ...</td>\n",
              "    </tr>\n",
              "    <tr>\n",
              "      <th>4</th>\n",
              "      <td>(173)</td>\n",
              "      <td>This product has no ratings yet.</td>\n",
              "    </tr>\n",
              "  </tbody>\n",
              "</table>\n",
              "</div>"
            ],
            "text/plain": [
              "   Rating                                             Review\n",
              "0     (5)                                It works perfectly!\n",
              "1    (35)  It's just like a cinema. Perfect in all the wa...\n",
              "2   (334)                  It's better a call than a message\n",
              "3   (173)  The product is good, except the remote is not ...\n",
              "4   (173)                   This product has no ratings yet."
            ]
          },
          "metadata": {
            "tags": []
          },
          "execution_count": 14
        }
      ]
    },
    {
      "cell_type": "code",
      "metadata": {
        "id": "pYjdFmugYub4",
        "colab_type": "code",
        "colab": {}
      },
      "source": [
        "df.to_csv(\"local.csv\", index=False)"
      ],
      "execution_count": null,
      "outputs": []
    },
    {
      "cell_type": "code",
      "metadata": {
        "id": "f15urP_seCWk",
        "colab_type": "code",
        "colab": {}
      },
      "source": [
        ""
      ],
      "execution_count": null,
      "outputs": []
    },
    {
      "cell_type": "markdown",
      "metadata": {
        "id": "mJrQPKmt8z6A",
        "colab_type": "text"
      },
      "source": [
        "## Natural language processing\n"
      ]
    },
    {
      "cell_type": "code",
      "metadata": {
        "id": "VGv-awXp85_P",
        "colab_type": "code",
        "colab": {
          "base_uri": "https://localhost:8080/",
          "height": 197
        },
        "outputId": "2b812936-79fc-40ff-bf6b-1480c15e7f33"
      },
      "source": [
        "df.head()"
      ],
      "execution_count": null,
      "outputs": [
        {
          "output_type": "execute_result",
          "data": {
            "text/html": [
              "<div>\n",
              "<style scoped>\n",
              "    .dataframe tbody tr th:only-of-type {\n",
              "        vertical-align: middle;\n",
              "    }\n",
              "\n",
              "    .dataframe tbody tr th {\n",
              "        vertical-align: top;\n",
              "    }\n",
              "\n",
              "    .dataframe thead th {\n",
              "        text-align: right;\n",
              "    }\n",
              "</style>\n",
              "<table border=\"1\" class=\"dataframe\">\n",
              "  <thead>\n",
              "    <tr style=\"text-align: right;\">\n",
              "      <th></th>\n",
              "      <th>Rating</th>\n",
              "      <th>Review</th>\n",
              "    </tr>\n",
              "  </thead>\n",
              "  <tbody>\n",
              "    <tr>\n",
              "      <th>0</th>\n",
              "      <td>(5)</td>\n",
              "      <td>It works perfectly!</td>\n",
              "    </tr>\n",
              "    <tr>\n",
              "      <th>1</th>\n",
              "      <td>(35)</td>\n",
              "      <td>It's just like a cinema. Perfect in all the wa...</td>\n",
              "    </tr>\n",
              "    <tr>\n",
              "      <th>2</th>\n",
              "      <td>(334)</td>\n",
              "      <td>It's better a call than a message</td>\n",
              "    </tr>\n",
              "    <tr>\n",
              "      <th>3</th>\n",
              "      <td>(173)</td>\n",
              "      <td>The product is good, except the remote is not ...</td>\n",
              "    </tr>\n",
              "    <tr>\n",
              "      <th>4</th>\n",
              "      <td>(173)</td>\n",
              "      <td>This product has no ratings yet.</td>\n",
              "    </tr>\n",
              "  </tbody>\n",
              "</table>\n",
              "</div>"
            ],
            "text/plain": [
              "   Rating                                             Review\n",
              "0     (5)                                It works perfectly!\n",
              "1    (35)  It's just like a cinema. Perfect in all the wa...\n",
              "2   (334)                  It's better a call than a message\n",
              "3   (173)  The product is good, except the remote is not ...\n",
              "4   (173)                   This product has no ratings yet."
            ]
          },
          "metadata": {
            "tags": []
          },
          "execution_count": 18
        }
      ]
    },
    {
      "cell_type": "code",
      "metadata": {
        "id": "NYjzQJDj9VGv",
        "colab_type": "code",
        "colab": {
          "base_uri": "https://localhost:8080/",
          "height": 745
        },
        "outputId": "4e45acb2-0b26-47d4-80e8-35e46bf25523"
      },
      "source": [
        "df.loc[:, 'Review']"
      ],
      "execution_count": null,
      "outputs": [
        {
          "output_type": "execute_result",
          "data": {
            "text/plain": [
              "0                                   It works perfectly!\n",
              "1     It's just like a cinema. Perfect in all the wa...\n",
              "2                     It's better a call than a message\n",
              "3     The product is good, except the remote is not ...\n",
              "4                      This product has no ratings yet.\n",
              "5                             delivered just as ordered\n",
              "6                      This product has no ratings yet.\n",
              "7                      This product has no reviews yet.\n",
              "8     The tv has developed a problem barely a week a...\n",
              "9                      This product has no reviews yet.\n",
              "10                     This product has no reviews yet.\n",
              "11                     This product has no ratings yet.\n",
              "12                     This product has no reviews yet.\n",
              "13                     This product has no ratings yet.\n",
              "14                         Quite slim n works just fine\n",
              "15                     This product has no reviews yet.\n",
              "16                     This product has no ratings yet.\n",
              "17                             Value for money..love it\n",
              "18                     This product has no ratings yet.\n",
              "19                     This product has no ratings yet.\n",
              "20                                 Good picture quality\n",
              "21                     This product has no ratings yet.\n",
              "22                     This product has no ratings yet.\n",
              "23                     This product has no ratings yet.\n",
              "24    Good value for money. Everything works as expe...\n",
              "25           Great quality sound and picture experience\n",
              "26                     This product has no ratings yet.\n",
              "27    Wow am in love with this TV...for help placing...\n",
              "28                     This product has no ratings yet.\n",
              "29                                        Want a change\n",
              "30    the product is very nice and it is the fast ti...\n",
              "31    I love the tv, especially the magic remote, it...\n",
              "32                     This product has no ratings yet.\n",
              "33                     This product has no ratings yet.\n",
              "34    This is just a concern the user manual is not ...\n",
              "35                     This product has no reviews yet.\n",
              "36                     This product has no reviews yet.\n",
              "37                     This product has no ratings yet.\n",
              "38                     This product has no ratings yet.\n",
              "39                                              Love it\n",
              "Name: Review, dtype: object"
            ]
          },
          "metadata": {
            "tags": []
          },
          "execution_count": 19
        }
      ]
    },
    {
      "cell_type": "code",
      "metadata": {
        "id": "wtvXNJmm--B8",
        "colab_type": "code",
        "colab": {
          "base_uri": "https://localhost:8080/",
          "height": 197
        },
        "outputId": "f4565021-ebee-43d0-88c7-7968b0a1b52c"
      },
      "source": [
        "mydata = df.loc[:, 'Review']\n",
        "df.head()"
      ],
      "execution_count": null,
      "outputs": [
        {
          "output_type": "execute_result",
          "data": {
            "text/html": [
              "<div>\n",
              "<style scoped>\n",
              "    .dataframe tbody tr th:only-of-type {\n",
              "        vertical-align: middle;\n",
              "    }\n",
              "\n",
              "    .dataframe tbody tr th {\n",
              "        vertical-align: top;\n",
              "    }\n",
              "\n",
              "    .dataframe thead th {\n",
              "        text-align: right;\n",
              "    }\n",
              "</style>\n",
              "<table border=\"1\" class=\"dataframe\">\n",
              "  <thead>\n",
              "    <tr style=\"text-align: right;\">\n",
              "      <th></th>\n",
              "      <th>Rating</th>\n",
              "      <th>Review</th>\n",
              "    </tr>\n",
              "  </thead>\n",
              "  <tbody>\n",
              "    <tr>\n",
              "      <th>0</th>\n",
              "      <td>(5)</td>\n",
              "      <td>It works perfectly!</td>\n",
              "    </tr>\n",
              "    <tr>\n",
              "      <th>1</th>\n",
              "      <td>(35)</td>\n",
              "      <td>It's just like a cinema. Perfect in all the wa...</td>\n",
              "    </tr>\n",
              "    <tr>\n",
              "      <th>2</th>\n",
              "      <td>(334)</td>\n",
              "      <td>It's better a call than a message</td>\n",
              "    </tr>\n",
              "    <tr>\n",
              "      <th>3</th>\n",
              "      <td>(173)</td>\n",
              "      <td>The product is good, except the remote is not ...</td>\n",
              "    </tr>\n",
              "    <tr>\n",
              "      <th>4</th>\n",
              "      <td>(173)</td>\n",
              "      <td>This product has no ratings yet.</td>\n",
              "    </tr>\n",
              "  </tbody>\n",
              "</table>\n",
              "</div>"
            ],
            "text/plain": [
              "   Rating                                             Review\n",
              "0     (5)                                It works perfectly!\n",
              "1    (35)  It's just like a cinema. Perfect in all the wa...\n",
              "2   (334)                  It's better a call than a message\n",
              "3   (173)  The product is good, except the remote is not ...\n",
              "4   (173)                   This product has no ratings yet."
            ]
          },
          "metadata": {
            "tags": []
          },
          "execution_count": 39
        }
      ]
    },
    {
      "cell_type": "code",
      "metadata": {
        "id": "yc0E-rjPAYXq",
        "colab_type": "code",
        "colab": {}
      },
      "source": [
        "# import pickle\n",
        "# pickle_out = open(\"dict.pickle\",\"wb\")\n",
        "# pickle.dump(mydata, pickle_out)\n",
        "# pickle_out.close()"
      ],
      "execution_count": null,
      "outputs": []
    },
    {
      "cell_type": "code",
      "metadata": {
        "id": "qlfp9nmgA1sl",
        "colab_type": "code",
        "colab": {}
      },
      "source": [
        "# pickle_in = open(\"dict.pickle\",\"rb\")\n",
        "# example_dict = pickle.load(pickle_in)"
      ],
      "execution_count": null,
      "outputs": []
    },
    {
      "cell_type": "code",
      "metadata": {
        "id": "By37Qus-_R59",
        "colab_type": "code",
        "colab": {
          "base_uri": "https://localhost:8080/",
          "height": 105
        },
        "outputId": "aadf5c84-ac0e-4ca8-c66d-daa19c906dd9"
      },
      "source": [
        "! pip install sklearn"
      ],
      "execution_count": null,
      "outputs": [
        {
          "output_type": "stream",
          "text": [
            "Requirement already satisfied: sklearn in /usr/local/lib/python3.6/dist-packages (0.0)\n",
            "Requirement already satisfied: scikit-learn in /usr/local/lib/python3.6/dist-packages (from sklearn) (0.22.2.post1)\n",
            "Requirement already satisfied: numpy>=1.11.0 in /usr/local/lib/python3.6/dist-packages (from scikit-learn->sklearn) (1.18.5)\n",
            "Requirement already satisfied: joblib>=0.11 in /usr/local/lib/python3.6/dist-packages (from scikit-learn->sklearn) (0.16.0)\n",
            "Requirement already satisfied: scipy>=0.17.0 in /usr/local/lib/python3.6/dist-packages (from scikit-learn->sklearn) (1.4.1)\n"
          ],
          "name": "stdout"
        }
      ]
    },
    {
      "cell_type": "code",
      "metadata": {
        "id": "2KlLwDwf_UTu",
        "colab_type": "code",
        "colab": {}
      },
      "source": [
        "from sklearn.feature_extraction.text import CountVectorizer"
      ],
      "execution_count": null,
      "outputs": []
    },
    {
      "cell_type": "code",
      "metadata": {
        "id": "okzCepi4BsgM",
        "colab_type": "code",
        "colab": {
          "base_uri": "https://localhost:8080/",
          "height": 123
        },
        "outputId": "390b2c4a-48dc-4f33-d3e0-ebe01d5f3780"
      },
      "source": [
        "mydata.reset_index(drop=True, inplace=True)\n",
        "mydata.head()\n"
      ],
      "execution_count": null,
      "outputs": [
        {
          "output_type": "execute_result",
          "data": {
            "text/plain": [
              "0                                  It works perfectly!\n",
              "1    It's just like a cinema. Perfect in all the wa...\n",
              "2                    It's better a call than a message\n",
              "3    The product is good, except the remote is not ...\n",
              "4                     This product has no ratings yet.\n",
              "Name: Review, dtype: object"
            ]
          },
          "metadata": {
            "tags": []
          },
          "execution_count": 38
        }
      ]
    },
    {
      "cell_type": "code",
      "metadata": {
        "id": "3w42z-47_dZP",
        "colab_type": "code",
        "colab": {}
      },
      "source": [
        "vectorizer = CountVectorizer()"
      ],
      "execution_count": null,
      "outputs": []
    },
    {
      "cell_type": "code",
      "metadata": {
        "id": "03qkY8Zl_8If",
        "colab_type": "code",
        "colab": {}
      },
      "source": [
        "corpus = df.loc[:, 'Review']"
      ],
      "execution_count": null,
      "outputs": []
    },
    {
      "cell_type": "code",
      "metadata": {
        "id": "vjfOTNyMAFRO",
        "colab_type": "code",
        "colab": {}
      },
      "source": [
        "X = vectorizer.fit_transform(corpus)"
      ],
      "execution_count": null,
      "outputs": []
    },
    {
      "cell_type": "code",
      "metadata": {
        "id": "06FxZPdHAINe",
        "colab_type": "code",
        "colab": {
          "base_uri": "https://localhost:8080/",
          "height": 52
        },
        "outputId": "bde91460-09ee-4279-d7be-588cf1821720"
      },
      "source": [
        "X"
      ],
      "execution_count": null,
      "outputs": [
        {
          "output_type": "execute_result",
          "data": {
            "text/plain": [
              "<40x110 sparse matrix of type '<class 'numpy.int64'>'\n",
              "\twith 294 stored elements in Compressed Sparse Row format>"
            ]
          },
          "metadata": {
            "tags": []
          },
          "execution_count": 42
        }
      ]
    },
    {
      "cell_type": "code",
      "metadata": {
        "id": "VWLKjdhqGOcR",
        "colab_type": "code",
        "colab": {
          "base_uri": "https://localhost:8080/",
          "height": 141
        },
        "outputId": "032d6901-2a27-4016-c3ad-c2db08d3227f"
      },
      "source": [
        "X.toarray()"
      ],
      "execution_count": null,
      "outputs": [
        {
          "output_type": "execute_result",
          "data": {
            "text/plain": [
              "array([[0, 0, 0, ..., 0, 0, 0],\n",
              "       [0, 0, 0, ..., 0, 0, 0],\n",
              "       [0, 0, 0, ..., 0, 0, 0],\n",
              "       ...,\n",
              "       [0, 0, 0, ..., 0, 1, 0],\n",
              "       [0, 0, 0, ..., 0, 1, 0],\n",
              "       [0, 0, 0, ..., 0, 0, 0]])"
            ]
          },
          "metadata": {
            "tags": []
          },
          "execution_count": 43
        }
      ]
    },
    {
      "cell_type": "code",
      "metadata": {
        "id": "nnDwQd9xGTzv",
        "colab_type": "code",
        "colab": {}
      },
      "source": [
        ""
      ],
      "execution_count": null,
      "outputs": []
    }
  ]
}